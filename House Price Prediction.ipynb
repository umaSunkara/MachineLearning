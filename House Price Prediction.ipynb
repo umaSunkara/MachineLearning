{
 "cells": [
  {
   "cell_type": "code",
   "execution_count": 1,
   "id": "e1920e97",
   "metadata": {},
   "outputs": [
    {
     "data": {
      "text/plain": [
       "array([6178627.50326817, 6370140.85865473, 3283148.1570249 ,\n",
       "       4226007.94816032, 3409685.55116741, 4262158.3499693 ,\n",
       "       5493440.53152357, 5559897.74293016, 3373715.42245305,\n",
       "       3020513.18649699, 9519985.01490602, 3250408.25967961,\n",
       "       3184310.73107686, 3639160.7315938 , 3907874.98339005,\n",
       "       6174323.64572264, 3148160.32926787, 4872535.73454622,\n",
       "       4826205.69113307, 3888527.39095668, 5222386.81260559,\n",
       "       4294589.38035851, 3162381.17719464, 4193028.43115341,\n",
       "       5747707.28367817, 7619041.42465273, 2989724.54874164,\n",
       "       4794005.74968623, 7434038.64867549, 3457027.28535551,\n",
       "       5102872.70577387, 3982998.90101381, 6215707.38061091,\n",
       "       4724828.08224186, 4307759.63367012, 5625853.70972471,\n",
       "       4791990.70630181, 3815116.83871033, 3261429.41224535,\n",
       "       4879463.83866908, 5326652.37523625, 3156512.70502897,\n",
       "       6345431.50216772, 4316575.21358846, 4120177.60802241,\n",
       "       4190668.52130486, 6710808.14327267, 4603723.42489655,\n",
       "       4521704.65093634, 3637248.18329027, 7841708.56409846,\n",
       "       3299587.35299201, 4772882.73353006, 4071574.4701165 ,\n",
       "       3957195.63851065, 3085375.24727539, 6971252.23454902,\n",
       "       3422953.86233245, 4825111.78511692, 3209020.08756387,\n",
       "       4878575.94908724, 4526835.83267042, 5037411.34253002,\n",
       "       3567305.75662553, 5012521.71294839, 4518334.58320816,\n",
       "       6744881.56629573, 3608274.03598504, 7430586.36570611,\n",
       "       4622435.71535643, 4747675.70627308, 5141167.77110127,\n",
       "       4967468.91586528, 6953067.98798004, 3201985.39486832,\n",
       "       5334424.86498618, 4478181.87891677, 3522520.04799282,\n",
       "       4377434.97188446, 3823567.27232485, 7153467.8960285 ,\n",
       "       4617172.0091562 , 5746394.03784009, 5236916.52748844,\n",
       "       3206746.9930711 , 7231644.4837051 , 3051399.88210575,\n",
       "       4084924.99652273, 7480866.8694814 , 7732906.74287638,\n",
       "       3572558.22032811, 5010612.23186412, 3718650.56510848,\n",
       "       3734909.48798097, 8681030.24021202, 3975727.65587591,\n",
       "       5623198.06375392, 6649034.75205514, 5213203.01916416,\n",
       "       5562072.7795695 , 4357723.76604259, 5963514.54002297,\n",
       "       4094108.78996416, 6072397.55021372, 5361443.315474  ,\n",
       "       5311028.75433724, 7199715.72420045, 6058267.44824741,\n",
       "       5931714.21149268])"
      ]
     },
     "execution_count": 1,
     "metadata": {},
     "output_type": "execute_result"
    }
   ],
   "source": [
    "from sklearn.linear_model import LinearRegression\n",
    "import pandas as pd\n",
    "from sklearn.ensemble import RandomForestRegressor\n",
    "from sklearn.model_selection import train_test_split\n",
    "from sklearn.metrics import mean_squared_error, r2_score\n",
    "data = pd.read_csv(\"Housing.csv\")\n",
    "data.dropna(inplace=True)\n",
    "to_drop=['price','mainroad','guestroom','basement','hotwaterheating','airconditioning','prefarea','furnishingstatus']\n",
    "X = data.drop(to_drop, axis=1)\n",
    "y = data[\"price\"]\n",
    "\n",
    "\n",
    "X_train, X_test, y_train, y_test = train_test_split(X, y, test_size=0.2, random_state=42)\n",
    "lr=LinearRegression()\n",
    "lr.fit(X_train,y_train)\n",
    "y_pred=lr.predict(X_test)\n",
    "y_pred"
   ]
  },
  {
   "cell_type": "code",
   "execution_count": 2,
   "id": "aee78b35",
   "metadata": {},
   "outputs": [
    {
     "name": "stdout",
     "output_type": "stream",
     "text": [
      "1514173.5520492233\n"
     ]
    }
   ],
   "source": [
    "from sklearn.metrics import mean_squared_error\n",
    "\n",
    "rmse = mean_squared_error(y_test, y_pred, squared=False)\n",
    "print(rmse)"
   ]
  },
  {
   "cell_type": "code",
   "execution_count": 3,
   "id": "2af6997a",
   "metadata": {},
   "outputs": [
    {
     "name": "stdout",
     "output_type": "stream",
     "text": [
      "2292721545725.3623\n"
     ]
    }
   ],
   "source": [
    "from sklearn.metrics import mean_squared_error\n",
    "\n",
    "mse = mean_squared_error(y_test, y_pred)\n",
    "print(mse)"
   ]
  },
  {
   "cell_type": "code",
   "execution_count": 4,
   "id": "d511753b",
   "metadata": {},
   "outputs": [
    {
     "name": "stdout",
     "output_type": "stream",
     "text": [
      "0.5464062355495871\n"
     ]
    }
   ],
   "source": [
    "from sklearn.metrics import r2_score\n",
    "\n",
    "r2 = r2_score(y_test, y_pred)\n",
    "print(r2)"
   ]
  },
  {
   "cell_type": "code",
   "execution_count": 5,
   "id": "58e07be4",
   "metadata": {},
   "outputs": [
    {
     "name": "stdout",
     "output_type": "stream",
     "text": [
      "1127483.3523235188\n"
     ]
    }
   ],
   "source": [
    "from sklearn.metrics import mean_absolute_error\n",
    "\n",
    "mae = mean_absolute_error(y_test, y_pred)\n",
    "print(mae)"
   ]
  },
  {
   "cell_type": "code",
   "execution_count": 6,
   "id": "3c0bf064",
   "metadata": {},
   "outputs": [
    {
     "data": {
      "text/plain": [
       "array([ 7542640.        ,  6140820.        ,  3467151.33333333,\n",
       "        4643590.        ,  3639825.        ,  5045670.        ,\n",
       "        4906160.        ,  4943750.        ,  3123505.        ,\n",
       "        3295561.5       , 10175859.4       ,  3313520.        ,\n",
       "        4043941.66666667,  3151085.        ,  4156390.        ,\n",
       "        4267480.        ,  3658634.        ,  5693170.        ,\n",
       "        4473350.        ,  4271400.        ,  5493950.        ,\n",
       "        5174330.        ,  3165263.33333333,  3852479.16666667,\n",
       "        4099340.        ,  6073200.        ,  2952040.        ,\n",
       "        4708585.        ,  5048960.        ,  3365000.33333333,\n",
       "        4671520.        ,  3722180.        ,  7215495.        ,\n",
       "        5085850.        ,  4350500.        ,  7025620.        ,\n",
       "        4944940.        ,  2876580.        ,  3626297.5       ,\n",
       "        4542860.        ,  5501160.        ,  3170060.83333333,\n",
       "        7068950.        ,  4293450.        ,  3379390.        ,\n",
       "        3549350.        ,  7105947.        ,  4573100.        ,\n",
       "        2803220.        ,  2963458.33333333,  8012226.6       ,\n",
       "        2396030.        ,  3501470.        ,  3411135.        ,\n",
       "        3588935.        ,  2813860.        ,  6515600.        ,\n",
       "        3631103.        ,  6963670.        ,  3963358.33333333,\n",
       "        3956225.        ,  3845800.        ,  5104470.        ,\n",
       "        3255630.        ,  4928560.        ,  4024440.        ,\n",
       "        6531560.        ,  3685735.        ,  6616050.        ,\n",
       "        4120200.        ,  4709600.        ,  5958400.        ,\n",
       "        4644640.        ,  5476660.        ,  2891280.        ,\n",
       "        4995760.        ,  3757845.        ,  4242560.        ,\n",
       "        5281220.        ,  3507303.33333333,  8072890.        ,\n",
       "        5243105.        ,  5724180.        ,  5285350.        ,\n",
       "        3259494.        ,  6824650.        ,  3621520.        ,\n",
       "        4086145.        ,  8099614.6       ,  9865940.        ,\n",
       "        2609180.        ,  4859960.        ,  3750203.33333333,\n",
       "        3478615.        ,  9932650.        ,  3236625.        ,\n",
       "        4292470.        ,  6296080.        ,  5554395.        ,\n",
       "        5935230.        ,  3615850.        ,  5654530.        ,\n",
       "        3915426.66666667,  4370940.        ,  8589630.        ,\n",
       "        8035125.        ,  7132842.5       ,  7193725.        ,\n",
       "        7070519.4       ])"
      ]
     },
     "execution_count": 6,
     "metadata": {},
     "output_type": "execute_result"
    }
   ],
   "source": [
    "from sklearn.ensemble import RandomForestRegressor\n",
    "rf=RandomForestRegressor()\n",
    "rf.fit(X_train,y_train)\n",
    "y_pred=rf.predict(X_test)\n",
    "y_pred"
   ]
  },
  {
   "cell_type": "code",
   "execution_count": 7,
   "id": "821f422c",
   "metadata": {},
   "outputs": [
    {
     "name": "stdout",
     "output_type": "stream",
     "text": [
      "1643087.3411966616\n"
     ]
    }
   ],
   "source": [
    "from sklearn.metrics import mean_squared_error\n",
    "\n",
    "rmse = mean_squared_error(y_test, y_pred, squared=False)\n",
    "print(rmse)"
   ]
  },
  {
   "cell_type": "code",
   "execution_count": 8,
   "id": "dd98edb0",
   "metadata": {},
   "outputs": [
    {
     "name": "stdout",
     "output_type": "stream",
     "text": [
      "2699736010800.715\n"
     ]
    }
   ],
   "source": [
    "from sklearn.metrics import mean_squared_error\n",
    "\n",
    "mse = mean_squared_error(y_test, y_pred)\n",
    "print(mse)"
   ]
  },
  {
   "cell_type": "code",
   "execution_count": 9,
   "id": "82398a8b",
   "metadata": {},
   "outputs": [
    {
     "name": "stdout",
     "output_type": "stream",
     "text": [
      "0.46588218597910547\n"
     ]
    }
   ],
   "source": [
    "from sklearn.metrics import r2_score\n",
    "\n",
    "r2 = r2_score(y_test, y_pred)\n",
    "print(r2)"
   ]
  },
  {
   "cell_type": "code",
   "execution_count": 10,
   "id": "6d13ecc9",
   "metadata": {},
   "outputs": [
    {
     "name": "stdout",
     "output_type": "stream",
     "text": [
      "1167127.3831804283\n"
     ]
    }
   ],
   "source": [
    "from sklearn.metrics import mean_absolute_error\n",
    "\n",
    "mae = mean_absolute_error(y_test, y_pred)\n",
    "print(mae)"
   ]
  }
 ],
 "metadata": {
  "kernelspec": {
   "display_name": "Python 3 (ipykernel)",
   "language": "python",
   "name": "python3"
  },
  "language_info": {
   "codemirror_mode": {
    "name": "ipython",
    "version": 3
   },
   "file_extension": ".py",
   "mimetype": "text/x-python",
   "name": "python",
   "nbconvert_exporter": "python",
   "pygments_lexer": "ipython3",
   "version": "3.9.5"
  }
 },
 "nbformat": 4,
 "nbformat_minor": 5
}
